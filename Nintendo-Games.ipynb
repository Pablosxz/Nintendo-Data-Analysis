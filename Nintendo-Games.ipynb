{
 "cells": [
  {
   "cell_type": "code",
   "execution_count": 4,
   "id": "1591a153",
   "metadata": {},
   "outputs": [],
   "source": [
    "import pandas as pd\n",
    "import numpy as np"
   ]
  },
  {
   "cell_type": "code",
   "execution_count": 5,
   "id": "3dffacf9",
   "metadata": {},
   "outputs": [],
   "source": [
    "df = pd.read_csv('NintendoGames.csv')"
   ]
  },
  {
   "cell_type": "code",
   "execution_count": 7,
   "id": "91a79c7d",
   "metadata": {},
   "outputs": [
    {
     "data": {
      "text/html": [
       "<div>\n",
       "<style scoped>\n",
       "    .dataframe tbody tr th:only-of-type {\n",
       "        vertical-align: middle;\n",
       "    }\n",
       "\n",
       "    .dataframe tbody tr th {\n",
       "        vertical-align: top;\n",
       "    }\n",
       "\n",
       "    .dataframe thead th {\n",
       "        text-align: right;\n",
       "    }\n",
       "</style>\n",
       "<table border=\"1\" class=\"dataframe\">\n",
       "  <thead>\n",
       "    <tr style=\"text-align: right;\">\n",
       "      <th></th>\n",
       "      <th>meta_score</th>\n",
       "      <th>title</th>\n",
       "      <th>platform</th>\n",
       "      <th>date</th>\n",
       "      <th>user_score</th>\n",
       "      <th>link</th>\n",
       "      <th>esrb_rating</th>\n",
       "      <th>developers</th>\n",
       "      <th>genres</th>\n",
       "    </tr>\n",
       "  </thead>\n",
       "  <tbody>\n",
       "    <tr>\n",
       "      <th>0</th>\n",
       "      <td>NaN</td>\n",
       "      <td>Super Mario RPG</td>\n",
       "      <td>Switch</td>\n",
       "      <td>Nov 17, 2023</td>\n",
       "      <td>NaN</td>\n",
       "      <td>/game/switch/super-mario-rpg</td>\n",
       "      <td>E</td>\n",
       "      <td>['Nintendo']</td>\n",
       "      <td>['Role-Playing', 'Japanese-Style']</td>\n",
       "    </tr>\n",
       "    <tr>\n",
       "      <th>1</th>\n",
       "      <td>NaN</td>\n",
       "      <td>WarioWare: Move It!</td>\n",
       "      <td>Switch</td>\n",
       "      <td>Nov 3, 2023</td>\n",
       "      <td>NaN</td>\n",
       "      <td>/game/switch/warioware-move-it!</td>\n",
       "      <td>RP</td>\n",
       "      <td>['Intelligent Systems']</td>\n",
       "      <td>['Miscellaneous', 'Party / Minigame']</td>\n",
       "    </tr>\n",
       "    <tr>\n",
       "      <th>2</th>\n",
       "      <td>NaN</td>\n",
       "      <td>Super Mario Bros. Wonder</td>\n",
       "      <td>Switch</td>\n",
       "      <td>Oct 20, 2023</td>\n",
       "      <td>NaN</td>\n",
       "      <td>/game/switch/super-mario-bros-wonder</td>\n",
       "      <td>E</td>\n",
       "      <td>['Nintendo']</td>\n",
       "      <td>['Action', 'Platformer', '2D']</td>\n",
       "    </tr>\n",
       "    <tr>\n",
       "      <th>3</th>\n",
       "      <td>NaN</td>\n",
       "      <td>Detective Pikachu Returns</td>\n",
       "      <td>Switch</td>\n",
       "      <td>Oct 6, 2023</td>\n",
       "      <td>NaN</td>\n",
       "      <td>/game/switch/detective-pikachu-returns</td>\n",
       "      <td>NaN</td>\n",
       "      <td>['Creatures Inc.']</td>\n",
       "      <td>['Adventure', '3D', 'Third-Person']</td>\n",
       "    </tr>\n",
       "    <tr>\n",
       "      <th>4</th>\n",
       "      <td>NaN</td>\n",
       "      <td>Fae Farm</td>\n",
       "      <td>Switch</td>\n",
       "      <td>Sep 8, 2023</td>\n",
       "      <td>NaN</td>\n",
       "      <td>/game/switch/fae-farm</td>\n",
       "      <td>E10+</td>\n",
       "      <td>['Phoenix Labs']</td>\n",
       "      <td>['Simulation', 'Virtual', 'Virtual Life']</td>\n",
       "    </tr>\n",
       "  </tbody>\n",
       "</table>\n",
       "</div>"
      ],
      "text/plain": [
       "   meta_score                      title platform          date  user_score  \\\n",
       "0         NaN            Super Mario RPG   Switch  Nov 17, 2023         NaN   \n",
       "1         NaN        WarioWare: Move It!   Switch   Nov 3, 2023         NaN   \n",
       "2         NaN   Super Mario Bros. Wonder   Switch  Oct 20, 2023         NaN   \n",
       "3         NaN  Detective Pikachu Returns   Switch   Oct 6, 2023         NaN   \n",
       "4         NaN                   Fae Farm   Switch   Sep 8, 2023         NaN   \n",
       "\n",
       "                                     link esrb_rating  \\\n",
       "0            /game/switch/super-mario-rpg           E   \n",
       "1         /game/switch/warioware-move-it!          RP   \n",
       "2    /game/switch/super-mario-bros-wonder           E   \n",
       "3  /game/switch/detective-pikachu-returns         NaN   \n",
       "4                   /game/switch/fae-farm        E10+   \n",
       "\n",
       "                developers                                     genres  \n",
       "0             ['Nintendo']         ['Role-Playing', 'Japanese-Style']  \n",
       "1  ['Intelligent Systems']      ['Miscellaneous', 'Party / Minigame']  \n",
       "2             ['Nintendo']             ['Action', 'Platformer', '2D']  \n",
       "3       ['Creatures Inc.']        ['Adventure', '3D', 'Third-Person']  \n",
       "4         ['Phoenix Labs']  ['Simulation', 'Virtual', 'Virtual Life']  "
      ]
     },
     "execution_count": 7,
     "metadata": {},
     "output_type": "execute_result"
    }
   ],
   "source": [
    "df.head()"
   ]
  },
  {
   "cell_type": "code",
   "execution_count": 10,
   "id": "db551103",
   "metadata": {},
   "outputs": [
    {
     "name": "stdout",
     "output_type": "stream",
     "text": [
      "<class 'pandas.core.frame.DataFrame'>\n",
      "RangeIndex: 1094 entries, 0 to 1093\n",
      "Data columns (total 9 columns):\n",
      " #   Column       Non-Null Count  Dtype  \n",
      "---  ------       --------------  -----  \n",
      " 0   meta_score   709 non-null    float64\n",
      " 1   title        1094 non-null   object \n",
      " 2   platform     1094 non-null   object \n",
      " 3   date         1094 non-null   object \n",
      " 4   user_score   856 non-null    float64\n",
      " 5   link         1094 non-null   object \n",
      " 6   esrb_rating  972 non-null    object \n",
      " 7   developers   1091 non-null   object \n",
      " 8   genres       1094 non-null   object \n",
      "dtypes: float64(2), object(7)\n",
      "memory usage: 77.1+ KB\n"
     ]
    }
   ],
   "source": [
    "df.info()"
   ]
  },
  {
   "cell_type": "markdown",
   "id": "d1f08bfc",
   "metadata": {},
   "source": [
    "### What is the distribution of Metacritic scores for Nintendo games, and are there any notable outliers?"
   ]
  },
  {
   "cell_type": "code",
   "execution_count": 34,
   "id": "485c69a5",
   "metadata": {},
   "outputs": [
    {
     "data": {
      "text/plain": [
       "<Axes: ylabel='Frequency'>"
      ]
     },
     "execution_count": 34,
     "metadata": {},
     "output_type": "execute_result"
    },
    {
     "data": {
      "image/png": "[encoded data removed]",
      "text/plain": [
       "<Figure size 640x480 with 1 Axes>"
      ]
     },
     "metadata": {},
     "output_type": "display_data"
    }
   ],
   "source": [
    "df['meta_score'].plot(kind='hist', bins=50)"
   ]
  },
  {
   "cell_type": "code",
   "execution_count": 49,
   "id": "8ede4f50",
   "metadata": {},
   "outputs": [
    {
     "data": {
      "text/plain": [
       "99.0"
      ]
     },
     "execution_count": 49,
     "metadata": {},
     "output_type": "execute_result"
    }
   ],
   "source": [
    "df['meta_score'].max() # First we have to know what is the positive standout value"
   ]
  },
  {
   "cell_type": "code",
   "execution_count": 48,
   "id": "7daae6dd",
   "metadata": {},
   "outputs": [
    {
     "data": {
      "text/html": [
       "<div>\n",
       "<style scoped>\n",
       "    .dataframe tbody tr th:only-of-type {\n",
       "        vertical-align: middle;\n",
       "    }\n",
       "\n",
       "    .dataframe tbody tr th {\n",
       "        vertical-align: top;\n",
       "    }\n",
       "\n",
       "    .dataframe thead th {\n",
       "        text-align: right;\n",
       "    }\n",
       "</style>\n",
       "<table border=\"1\" class=\"dataframe\">\n",
       "  <thead>\n",
       "    <tr style=\"text-align: right;\">\n",
       "      <th></th>\n",
       "      <th>meta_score</th>\n",
       "      <th>title</th>\n",
       "      <th>platform</th>\n",
       "      <th>date</th>\n",
       "      <th>user_score</th>\n",
       "      <th>link</th>\n",
       "      <th>esrb_rating</th>\n",
       "      <th>developers</th>\n",
       "      <th>genres</th>\n",
       "    </tr>\n",
       "  </thead>\n",
       "  <tbody>\n",
       "    <tr>\n",
       "      <th>1060</th>\n",
       "      <td>99.0</td>\n",
       "      <td>The Legend of Zelda: Ocarina of Time</td>\n",
       "      <td>N64</td>\n",
       "      <td>Nov 23, 1998</td>\n",
       "      <td>9.1</td>\n",
       "      <td>/game/nintendo-64/the-legend-of-zelda-ocarina-...</td>\n",
       "      <td>E</td>\n",
       "      <td>['Nintendo']</td>\n",
       "      <td>['Action Adventure', 'Fantasy']</td>\n",
       "    </tr>\n",
       "  </tbody>\n",
       "</table>\n",
       "</div>"
      ],
      "text/plain": [
       "      meta_score                                 title platform          date  \\\n",
       "1060        99.0  The Legend of Zelda: Ocarina of Time      N64  Nov 23, 1998   \n",
       "\n",
       "      user_score                                               link  \\\n",
       "1060         9.1  /game/nintendo-64/the-legend-of-zelda-ocarina-...   \n",
       "\n",
       "     esrb_rating    developers                           genres  \n",
       "1060           E  ['Nintendo']  ['Action Adventure', 'Fantasy']  "
      ]
     },
     "execution_count": 48,
     "metadata": {},
     "output_type": "execute_result"
    }
   ],
   "source": [
    "df[(df['meta_score']==99)] # And this is the positive standout Game "
   ]
  },
  {
   "cell_type": "code",
   "execution_count": 50,
   "id": "3845270c",
   "metadata": {},
   "outputs": [
    {
     "data": {
      "text/plain": [
       "37.0"
      ]
     },
     "execution_count": 50,
     "metadata": {},
     "output_type": "execute_result"
    }
   ],
   "source": [
    "df['meta_score'].min() # Second we have to find what is the negative standout value on the DF"
   ]
  },
  {
   "cell_type": "code",
   "execution_count": 68,
   "id": "9078bb4b",
   "metadata": {},
   "outputs": [
    {
     "data": {
      "text/html": [
       "<div>\n",
       "<style scoped>\n",
       "    .dataframe tbody tr th:only-of-type {\n",
       "        vertical-align: middle;\n",
       "    }\n",
       "\n",
       "    .dataframe tbody tr th {\n",
       "        vertical-align: top;\n",
       "    }\n",
       "\n",
       "    .dataframe thead th {\n",
       "        text-align: right;\n",
       "    }\n",
       "</style>\n",
       "<table border=\"1\" class=\"dataframe\">\n",
       "  <thead>\n",
       "    <tr style=\"text-align: right;\">\n",
       "      <th></th>\n",
       "      <th>meta_score</th>\n",
       "      <th>title</th>\n",
       "      <th>platform</th>\n",
       "      <th>date</th>\n",
       "      <th>user_score</th>\n",
       "      <th>link</th>\n",
       "      <th>esrb_rating</th>\n",
       "      <th>developers</th>\n",
       "      <th>genres</th>\n",
       "    </tr>\n",
       "  </thead>\n",
       "  <tbody>\n",
       "    <tr>\n",
       "      <th>554</th>\n",
       "      <td>37.0</td>\n",
       "      <td>3D Classics: Urban Champion</td>\n",
       "      <td>3DS</td>\n",
       "      <td>Aug 18, 2011</td>\n",
       "      <td>4.8</td>\n",
       "      <td>/game/3ds/3d-classics-urban-champion</td>\n",
       "      <td>E10+</td>\n",
       "      <td>['Arika']</td>\n",
       "      <td>['Action', 'Fighting', 'Fighting', '2D', '2D']</td>\n",
       "    </tr>\n",
       "    <tr>\n",
       "      <th>898</th>\n",
       "      <td>37.0</td>\n",
       "      <td>Tenchu: Dark Secret</td>\n",
       "      <td>DS</td>\n",
       "      <td>Aug 21, 2006</td>\n",
       "      <td>5.6</td>\n",
       "      <td>/game/ds/tenchu-dark-secret</td>\n",
       "      <td>T</td>\n",
       "      <td>['From Software', ' Polygon Magic']</td>\n",
       "      <td>['Action Adventure', 'Historic', 'General', 'H...</td>\n",
       "    </tr>\n",
       "  </tbody>\n",
       "</table>\n",
       "</div>"
      ],
      "text/plain": [
       "     meta_score                        title platform          date  \\\n",
       "554        37.0  3D Classics: Urban Champion      3DS  Aug 18, 2011   \n",
       "898        37.0          Tenchu: Dark Secret       DS  Aug 21, 2006   \n",
       "\n",
       "     user_score                                  link esrb_rating  \\\n",
       "554         4.8  /game/3ds/3d-classics-urban-champion        E10+   \n",
       "898         5.6           /game/ds/tenchu-dark-secret           T   \n",
       "\n",
       "                              developers  \\\n",
       "554                            ['Arika']   \n",
       "898  ['From Software', ' Polygon Magic']   \n",
       "\n",
       "                                                genres  \n",
       "554     ['Action', 'Fighting', 'Fighting', '2D', '2D']  \n",
       "898  ['Action Adventure', 'Historic', 'General', 'H...  "
      ]
     },
     "execution_count": 68,
     "metadata": {},
     "output_type": "execute_result"
    }
   ],
   "source": [
    "df[(df['meta_score']==37)] # And then, we have this two games as Outliers (Negative)"
   ]
  },
  {
   "cell_type": "markdown",
   "id": "c188a7bb",
   "metadata": {},
   "source": [
    "### Is there a correlation between Metacritic scores and user scores for Nintendo games?"
   ]
  },
  {
   "cell_type": "code",
   "execution_count": 73,
   "id": "4db8a498",
   "metadata": {},
   "outputs": [
    {
     "data": {
      "text/plain": [
       "<Axes: ylabel='Frequency'>"
      ]
     },
     "execution_count": 73,
     "metadata": {},
     "output_type": "execute_result"
    },
    {
     "data": {
      "image/png": "[encoded data removed]",
      "text/plain": [
       "<Figure size 640x480 with 1 Axes>"
      ]
     },
     "metadata": {},
     "output_type": "display_data"
    }
   ],
   "source": [
    "(df['user_score']*10).plot(kind='hist', bins=50) # Put the (values * 10) so we can obtain more similar values "
   ]
  },
  {
   "cell_type": "code",
   "execution_count": 70,
   "id": "6f467967",
   "metadata": {},
   "outputs": [
    {
     "data": {
      "text/plain": [
       "<Axes: ylabel='Frequency'>"
      ]
     },
     "execution_count": 70,
     "metadata": {},
     "output_type": "execute_result"
    },
    {
     "data": {
      "image/png": "[encoded data removed]",
      "text/plain": [
       "<Figure size 640x480 with 1 Axes>"
      ]
     },
     "metadata": {},
     "output_type": "display_data"
    }
   ],
   "source": [
    "df['meta_score'].plot(kind='hist', bins=50)"
   ]
  },
  {
   "cell_type": "code",
   "execution_count": 76,
   "id": "cf6f4d7e",
   "metadata": {},
   "outputs": [
    {
     "data": {
      "text/plain": [
       "<Axes: xlabel='user_score', ylabel='meta_score'>"
      ]
     },
     "execution_count": 76,
     "metadata": {},
     "output_type": "execute_result"
    },
    {
     "data": {
      "image/png": "[encoded data removed]",
      "text/plain": [
       "<Figure size 640x480 with 1 Axes>"
      ]
     },
     "metadata": {},
     "output_type": "display_data"
    }
   ],
   "source": [
    "df.plot('user_score','meta_score', kind='scatter') \n",
    "# With the scatter graphic we can see more easier the relation between the user_score and the meta_score"
   ]
  },
  {
   "cell_type": "code",
   "execution_count": 77,
   "id": "1a2067b3",
   "metadata": {},
   "outputs": [],
   "source": [
    "# With the graphs we conclude that the correlation is somehow positive, but still has a considerable amount of outliers"
   ]
  },
  {
   "cell_type": "code",
   "execution_count": 80,
   "id": "a77b49f0",
   "metadata": {},
   "outputs": [
    {
     "data": {
      "text/html": [
       "<div>\n",
       "<style scoped>\n",
       "    .dataframe tbody tr th:only-of-type {\n",
       "        vertical-align: middle;\n",
       "    }\n",
       "\n",
       "    .dataframe tbody tr th {\n",
       "        vertical-align: top;\n",
       "    }\n",
       "\n",
       "    .dataframe thead th {\n",
       "        text-align: right;\n",
       "    }\n",
       "</style>\n",
       "<table border=\"1\" class=\"dataframe\">\n",
       "  <thead>\n",
       "    <tr style=\"text-align: right;\">\n",
       "      <th></th>\n",
       "      <th>meta_score</th>\n",
       "      <th>title</th>\n",
       "      <th>platform</th>\n",
       "      <th>date</th>\n",
       "      <th>user_score</th>\n",
       "      <th>link</th>\n",
       "      <th>esrb_rating</th>\n",
       "      <th>developers</th>\n",
       "      <th>genres</th>\n",
       "    </tr>\n",
       "  </thead>\n",
       "  <tbody>\n",
       "    <tr>\n",
       "      <th>99</th>\n",
       "      <td>90.0</td>\n",
       "      <td>Animal Crossing: New Horizons</td>\n",
       "      <td>Switch</td>\n",
       "      <td>Mar 20, 2020</td>\n",
       "      <td>5.6</td>\n",
       "      <td>/game/switch/animal-crossing-new-horizons</td>\n",
       "      <td>E</td>\n",
       "      <td>['Nintendo']</td>\n",
       "      <td>['Simulation', 'Virtual', 'Virtual Life']</td>\n",
       "    </tr>\n",
       "    <tr>\n",
       "      <th>191</th>\n",
       "      <td>90.0</td>\n",
       "      <td>Bayonetta + Bayonetta 2</td>\n",
       "      <td>Switch</td>\n",
       "      <td>Feb 16, 2018</td>\n",
       "      <td>8.7</td>\n",
       "      <td>/game/switch/bayonetta-+-bayonetta-2</td>\n",
       "      <td>M</td>\n",
       "      <td>['PlatinumGames']</td>\n",
       "      <td>['Miscellaneous', 'Compilation']</td>\n",
       "    </tr>\n",
       "    <tr>\n",
       "      <th>353</th>\n",
       "      <td>90.0</td>\n",
       "      <td>Mario Kart 8 DLC Pack 2</td>\n",
       "      <td>WIIU</td>\n",
       "      <td>Apr 23, 2015</td>\n",
       "      <td>8.2</td>\n",
       "      <td>/game/wii-u/mario-kart-8-dlc-pack-2</td>\n",
       "      <td>E</td>\n",
       "      <td>['Nintendo']</td>\n",
       "      <td>['Driving', 'Kart', 'Racing', 'Arcade', 'Autom...</td>\n",
       "    </tr>\n",
       "    <tr>\n",
       "      <th>426</th>\n",
       "      <td>90.0</td>\n",
       "      <td>The Legend of Zelda: The Wind Waker HD</td>\n",
       "      <td>WIIU</td>\n",
       "      <td>Sep 20, 2013</td>\n",
       "      <td>9.0</td>\n",
       "      <td>/game/wii-u/the-legend-of-zelda-the-wind-waker-hd</td>\n",
       "      <td>E10+</td>\n",
       "      <td>['Nintendo', ' HexaDrive']</td>\n",
       "      <td>['Action Adventure', 'Fantasy', 'Fantasy', 'Op...</td>\n",
       "    </tr>\n",
       "    <tr>\n",
       "      <th>536</th>\n",
       "      <td>90.0</td>\n",
       "      <td>Pushmo</td>\n",
       "      <td>3DS</td>\n",
       "      <td>Dec 8, 2011</td>\n",
       "      <td>8.3</td>\n",
       "      <td>/game/3ds/pushmo</td>\n",
       "      <td>E</td>\n",
       "      <td>['Intelligent Systems']</td>\n",
       "      <td>['Miscellaneous', 'Puzzle', 'Action', 'Puzzle'...</td>\n",
       "    </tr>\n",
       "    <tr>\n",
       "      <th>542</th>\n",
       "      <td>90.0</td>\n",
       "      <td>Super Mario 3D Land</td>\n",
       "      <td>3DS</td>\n",
       "      <td>Nov 13, 2011</td>\n",
       "      <td>8.4</td>\n",
       "      <td>/game/3ds/super-mario-3d-land</td>\n",
       "      <td>E</td>\n",
       "      <td>['Nintendo']</td>\n",
       "      <td>['Action', 'Platformer', 'Platformer', '3D', '...</td>\n",
       "    </tr>\n",
       "    <tr>\n",
       "      <th>685</th>\n",
       "      <td>90.0</td>\n",
       "      <td>Mario &amp; Luigi: Bowser's Inside Story</td>\n",
       "      <td>DS</td>\n",
       "      <td>Sep 14, 2009</td>\n",
       "      <td>8.8</td>\n",
       "      <td>/game/ds/mario-luigi-bowsers-inside-story</td>\n",
       "      <td>E</td>\n",
       "      <td>['Alphadream Corporation']</td>\n",
       "      <td>['Role-Playing', 'Action RPG', 'Console-style ...</td>\n",
       "    </tr>\n",
       "    <tr>\n",
       "      <th>791</th>\n",
       "      <td>90.0</td>\n",
       "      <td>The Legend of Zelda: Phantom Hourglass</td>\n",
       "      <td>DS</td>\n",
       "      <td>Oct 1, 2007</td>\n",
       "      <td>7.9</td>\n",
       "      <td>/game/ds/the-legend-of-zelda-phantom-hourglass</td>\n",
       "      <td>E</td>\n",
       "      <td>['Nintendo']</td>\n",
       "      <td>['Action Adventure', 'Fantasy', 'Fantasy', 'Op...</td>\n",
       "    </tr>\n",
       "    <tr>\n",
       "      <th>800</th>\n",
       "      <td>90.0</td>\n",
       "      <td>Metroid Prime 3: Corruption</td>\n",
       "      <td>WII</td>\n",
       "      <td>Aug 27, 2007</td>\n",
       "      <td>8.8</td>\n",
       "      <td>/game/wii/metroid-prime-3-corruption</td>\n",
       "      <td>T</td>\n",
       "      <td>['Retro Studios']</td>\n",
       "      <td>['Action', 'Shooter', 'Shooter', 'First-Person...</td>\n",
       "    </tr>\n",
       "    <tr>\n",
       "      <th>933</th>\n",
       "      <td>90.0</td>\n",
       "      <td>Advance Wars: Dual Strike</td>\n",
       "      <td>DS</td>\n",
       "      <td>Aug 22, 2005</td>\n",
       "      <td>8.8</td>\n",
       "      <td>/game/ds/advance-wars-dual-strike</td>\n",
       "      <td>E</td>\n",
       "      <td>['Intelligent Systems']</td>\n",
       "      <td>['Strategy', 'Turn-Based', 'Modern', 'Modern',...</td>\n",
       "    </tr>\n",
       "    <tr>\n",
       "      <th>973</th>\n",
       "      <td>90.0</td>\n",
       "      <td>Pikmin 2</td>\n",
       "      <td>GC</td>\n",
       "      <td>Aug 30, 2004</td>\n",
       "      <td>9.1</td>\n",
       "      <td>/game/gamecube/pikmin-2</td>\n",
       "      <td>E</td>\n",
       "      <td>['Nintendo']</td>\n",
       "      <td>['Strategy', 'Real-Time', 'Fantasy']</td>\n",
       "    </tr>\n",
       "    <tr>\n",
       "      <th>995</th>\n",
       "      <td>90.0</td>\n",
       "      <td>Mario &amp; Luigi: Superstar Saga</td>\n",
       "      <td>GBA</td>\n",
       "      <td>Nov 17, 2003</td>\n",
       "      <td>8.8</td>\n",
       "      <td>/game/game-boy-advance/mario-luigi-superstar-saga</td>\n",
       "      <td>E</td>\n",
       "      <td>['Alphadream Corporation']</td>\n",
       "      <td>['Role-Playing', 'Console-style RPG']</td>\n",
       "    </tr>\n",
       "    <tr>\n",
       "      <th>1045</th>\n",
       "      <td>90.0</td>\n",
       "      <td>Banjo-Tooie</td>\n",
       "      <td>N64</td>\n",
       "      <td>Nov 19, 2000</td>\n",
       "      <td>8.8</td>\n",
       "      <td>/game/nintendo-64/banjo-tooie</td>\n",
       "      <td>E</td>\n",
       "      <td>['Rare Ltd.']</td>\n",
       "      <td>['Action', 'Platformer', '3D']</td>\n",
       "    </tr>\n",
       "    <tr>\n",
       "      <th>1067</th>\n",
       "      <td>90.0</td>\n",
       "      <td>Blast Corps</td>\n",
       "      <td>N64</td>\n",
       "      <td>Feb 28, 1997</td>\n",
       "      <td>8.4</td>\n",
       "      <td>/game/nintendo-64/blast-corps</td>\n",
       "      <td>E</td>\n",
       "      <td>['Rare Ltd.']</td>\n",
       "      <td>['Action', 'General']</td>\n",
       "    </tr>\n",
       "  </tbody>\n",
       "</table>\n",
       "</div>"
      ],
      "text/plain": [
       "      meta_score                                   title platform  \\\n",
       "99          90.0           Animal Crossing: New Horizons   Switch   \n",
       "191         90.0                 Bayonetta + Bayonetta 2   Switch   \n",
       "353         90.0                 Mario Kart 8 DLC Pack 2     WIIU   \n",
       "426         90.0  The Legend of Zelda: The Wind Waker HD     WIIU   \n",
       "536         90.0                                  Pushmo      3DS   \n",
       "542         90.0                     Super Mario 3D Land      3DS   \n",
       "685         90.0    Mario & Luigi: Bowser's Inside Story       DS   \n",
       "791         90.0  The Legend of Zelda: Phantom Hourglass       DS   \n",
       "800         90.0             Metroid Prime 3: Corruption      WII   \n",
       "933         90.0               Advance Wars: Dual Strike       DS   \n",
       "973         90.0                                Pikmin 2       GC   \n",
       "995         90.0           Mario & Luigi: Superstar Saga      GBA   \n",
       "1045        90.0                             Banjo-Tooie      N64   \n",
       "1067        90.0                             Blast Corps      N64   \n",
       "\n",
       "              date  user_score  \\\n",
       "99    Mar 20, 2020         5.6   \n",
       "191   Feb 16, 2018         8.7   \n",
       "353   Apr 23, 2015         8.2   \n",
       "426   Sep 20, 2013         9.0   \n",
       "536    Dec 8, 2011         8.3   \n",
       "542   Nov 13, 2011         8.4   \n",
       "685   Sep 14, 2009         8.8   \n",
       "791    Oct 1, 2007         7.9   \n",
       "800   Aug 27, 2007         8.8   \n",
       "933   Aug 22, 2005         8.8   \n",
       "973   Aug 30, 2004         9.1   \n",
       "995   Nov 17, 2003         8.8   \n",
       "1045  Nov 19, 2000         8.8   \n",
       "1067  Feb 28, 1997         8.4   \n",
       "\n",
       "                                                   link esrb_rating  \\\n",
       "99            /game/switch/animal-crossing-new-horizons           E   \n",
       "191                /game/switch/bayonetta-+-bayonetta-2           M   \n",
       "353                 /game/wii-u/mario-kart-8-dlc-pack-2           E   \n",
       "426   /game/wii-u/the-legend-of-zelda-the-wind-waker-hd        E10+   \n",
       "536                                    /game/3ds/pushmo           E   \n",
       "542                       /game/3ds/super-mario-3d-land           E   \n",
       "685           /game/ds/mario-luigi-bowsers-inside-story           E   \n",
       "791      /game/ds/the-legend-of-zelda-phantom-hourglass           E   \n",
       "800                /game/wii/metroid-prime-3-corruption           T   \n",
       "933                   /game/ds/advance-wars-dual-strike           E   \n",
       "973                             /game/gamecube/pikmin-2           E   \n",
       "995   /game/game-boy-advance/mario-luigi-superstar-saga           E   \n",
       "1045                      /game/nintendo-64/banjo-tooie           E   \n",
       "1067                      /game/nintendo-64/blast-corps           E   \n",
       "\n",
       "                      developers  \\\n",
       "99                  ['Nintendo']   \n",
       "191            ['PlatinumGames']   \n",
       "353                 ['Nintendo']   \n",
       "426   ['Nintendo', ' HexaDrive']   \n",
       "536      ['Intelligent Systems']   \n",
       "542                 ['Nintendo']   \n",
       "685   ['Alphadream Corporation']   \n",
       "791                 ['Nintendo']   \n",
       "800            ['Retro Studios']   \n",
       "933      ['Intelligent Systems']   \n",
       "973                 ['Nintendo']   \n",
       "995   ['Alphadream Corporation']   \n",
       "1045               ['Rare Ltd.']   \n",
       "1067               ['Rare Ltd.']   \n",
       "\n",
       "                                                 genres  \n",
       "99            ['Simulation', 'Virtual', 'Virtual Life']  \n",
       "191                    ['Miscellaneous', 'Compilation']  \n",
       "353   ['Driving', 'Kart', 'Racing', 'Arcade', 'Autom...  \n",
       "426   ['Action Adventure', 'Fantasy', 'Fantasy', 'Op...  \n",
       "536   ['Miscellaneous', 'Puzzle', 'Action', 'Puzzle'...  \n",
       "542   ['Action', 'Platformer', 'Platformer', '3D', '...  \n",
       "685   ['Role-Playing', 'Action RPG', 'Console-style ...  \n",
       "791   ['Action Adventure', 'Fantasy', 'Fantasy', 'Op...  \n",
       "800   ['Action', 'Shooter', 'Shooter', 'First-Person...  \n",
       "933   ['Strategy', 'Turn-Based', 'Modern', 'Modern',...  \n",
       "973                ['Strategy', 'Real-Time', 'Fantasy']  \n",
       "995               ['Role-Playing', 'Console-style RPG']  \n",
       "1045                     ['Action', 'Platformer', '3D']  \n",
       "1067                              ['Action', 'General']  "
      ]
     },
     "execution_count": 80,
     "metadata": {},
     "output_type": "execute_result"
    }
   ],
   "source": [
    "df[(df['meta_score']==90)] \n",
    "# The game \"Animal Crossing: New Horizons\" is an example of outlier with 90 metacritic score and 5.6 users score"
   ]
  },
  {
   "cell_type": "markdown",
   "id": "7a514a2d",
   "metadata": {},
   "source": [
    "### Which Nintendo platform has the highest average Metacritic score?"
   ]
  },
  {
   "cell_type": "code",
   "execution_count": null,
   "id": "6c66166c",
   "metadata": {},
   "outputs": [],
   "source": []
  }
 ],
 "metadata": {
  "kernelspec": {
   "display_name": "Python 3 (ipykernel)",
   "language": "python",
   "name": "python3"
  },
  "language_info": {
   "codemirror_mode": {
    "name": "ipython",
    "version": 3
   },
   "file_extension": ".py",
   "mimetype": "text/x-python",
   "name": "python",
   "nbconvert_exporter": "python",
   "pygments_lexer": "ipython3",
   "version": "3.11.4"
  }
 },
 "nbformat": 4,
 "nbformat_minor": 5
}
